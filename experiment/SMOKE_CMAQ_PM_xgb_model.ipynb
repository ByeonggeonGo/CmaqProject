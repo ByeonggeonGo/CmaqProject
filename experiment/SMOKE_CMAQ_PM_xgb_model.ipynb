{
 "cells": [
  {
   "cell_type": "code",
   "execution_count": 1,
   "metadata": {},
   "outputs": [],
   "source": [
    "import os\n",
    "import numpy as np\n",
    "path = os.getcwd()\n",
    "from netCDF4 import Dataset\n",
    "\n",
    "import matplotlib.pyplot as plt\n",
    "import xgboost as xgb\n",
    "\n",
    "# In[]\n",
    "lr = 1e-3\n",
    "batch_size = 4\n",
    "num_epoch = 200\n",
    "ckpt_dir = './checkpoint'"
   ]
  },
  {
   "cell_type": "code",
   "execution_count": 3,
   "metadata": {},
   "outputs": [
    {
     "name": "stdout",
     "output_type": "stream",
     "text": [
      "(119, 64, 64, 4)\n"
     ]
    }
   ],
   "source": [
    "# In[] SMOKE-CMAQ\n",
    "# CMAQ 연평균 PM농도\n",
    "pm2_5 = np.array([])\n",
    "\n",
    "for i in range(1,120):\n",
    "    a = 'ACONC.' + str(i)\n",
    "    nc = Dataset(a, 'r')\n",
    "    pm2_5 = np.append(pm2_5, np.array([[[nc.variables['PM2_5']]]]))\n",
    "    \n",
    "pm2_5 = np.reshape(pm2_5, [119,82,67])\n",
    "pm2_5 = pm2_5[:,8:-10,2:-1]\n",
    "pm2_5 = np.reshape(pm2_5, [119,64,64]) # convolution 연산을 위해\n",
    "\n",
    "pm = pm2_5\n",
    "\n",
    "\n",
    "y1 = np.array([])\n",
    "y2 = np.array([])\n",
    "y3 = np.array([])\n",
    "y4 = np.array([])\n",
    "y5 = np.array([])\n",
    "y6 = np.array([])\n",
    "\n",
    "for i in range(1,120):\n",
    "    a = 'EMIS_AVG.' + str(i)\n",
    "    nc = Dataset(a, 'r')\n",
    "    y1 = np.append(y1, np.array([[[nc.variables['SO2']]]]))\n",
    "    y2 = np.append(y2, np.array([[[nc.variables['PM2_5']]]]))\n",
    "    y3 = np.append(y3, np.array([[[nc.variables['NOx']]]]))\n",
    "    y4 = np.append(y4, np.array([[[nc.variables['VOCs']]]]))\n",
    "    y5 = np.append(y5, np.array([[[nc.variables['NH3']]]]))\n",
    "    y6 = np.append(y6, np.array([[[nc.variables['CO']]]]))\n",
    "    \n",
    "y1 = np.reshape(y1, [119,82,67])\n",
    "y1 = y1[:,8:-10,2:-1]\n",
    "y1 = np.reshape(y1, [119,64,64])\n",
    "y1_max = np.max(y1)\n",
    "y1_min = np.min(y1)\n",
    "\n",
    "y2 = np.reshape(y2, [119,82,67])\n",
    "y2 = y2[:,8:-10,2:-1]\n",
    "y2 = np.reshape(y2, [119,64,64])\n",
    "y2_max = np.max(y2)\n",
    "y2_min = np.min(y2)\n",
    "\n",
    "y3 = np.reshape(y3, [119,82,67])\n",
    "y3 = y3[:,8:-10,2:-1]\n",
    "y3 = np.reshape(y3, [119,64,64])\n",
    "y3_max = np.max(y3)\n",
    "y3_min = np.min(y3)\n",
    "\n",
    "y4 = np.reshape(y4, [119,82,67])\n",
    "y4 = y4[:,8:-10,2:-1]\n",
    "y4 = np.reshape(y4, [119,64,64])\n",
    "y4_max = np.max(y4)\n",
    "y4_min = np.min(y4)\n",
    "\n",
    "y5 = np.reshape(y5, [119,82,67])\n",
    "y5 = y5[:,8:-10,2:-1]\n",
    "y5 = np.reshape(y5, [119,64,64])\n",
    "y5_max = np.max(y5)\n",
    "y5_min = np.min(y5)\n",
    "    \n",
    "y6 = np.reshape(y6, [119,82,67])\n",
    "y6 = y6[:,8:-10,2:-1]\n",
    "y6 = np.reshape(y6, [119,64,64])\n",
    "\n",
    "\n",
    "def pm_data():\n",
    "    a = np.concatenate((y3,y1,y4,y5), axis=0) # PM2.5, SO2, NH3\n",
    "    a = np.reshape(a,[4,119,64,64]) # data generation for CNN ??\n",
    "    a = np.transpose(a, (1,2,3,0)) # CNN 학습을 위한 순서변경\n",
    "    print(np.shape(a))\n",
    "    \n",
    "    y = pm\n",
    "    \n",
    "    y = np.reshape(y, [119,64,64,1]) # CNN output data\n",
    "    x_train = a[0:70]\n",
    "    y_train = y[0:70]\n",
    "    x_test = a[70:]\n",
    "    pm2_5 = y[70:]\n",
    "    return x_train, y_train, x_test, pm2_5, a, y\n",
    "\n",
    "\n",
    "pm_data1 = pm_data()\n",
    "x_train, y_train, x_test, pm2_5, a, y = pm_data1[0], pm_data1[1], pm_data1[2], pm_data1[3], pm_data1[4], pm_data1[5]#, pm_data1[6], pm_data1[7] \n"
   ]
  },
  {
   "cell_type": "code",
   "execution_count": 36,
   "metadata": {},
   "outputs": [
    {
     "name": "stdout",
     "output_type": "stream",
     "text": [
      "(70, 16384) (49, 16384) (70, 4096) (49, 4096)\n"
     ]
    }
   ],
   "source": [
    "x_train_spread = x_train.reshape(x_train.shape[0],-1)\n",
    "x_test_spread = x_test.reshape(x_test.shape[0],-1)\n",
    "\n",
    "y_train_spread = y_train.reshape(y_train.shape[0],-1)\n",
    "y_test_spread = pm2_5.reshape(pm2_5.shape[0],-1)\n",
    "# np.sum(x_train - test.reshape(70,64,64,4))\n",
    "\n",
    "print(x_train_spread.shape, x_test_spread.shape, y_train_spread.shape, y_test_spread.shape, )"
   ]
  },
  {
   "cell_type": "code",
   "execution_count": null,
   "metadata": {},
   "outputs": [],
   "source": [
    "%%time\n",
    "params = {\n",
    "        # 'booster':'gbtree', # [gbtree, gblinear, dart]\n",
    "        \"tree_method\": \"hist\", \n",
    "        'objective':'reg:squaredlogerror',\n",
    "        # 'objective':'reg:squaredlogerror',binary:logistic\n",
    "        \"verbosity\": 0,\n",
    "                }\n",
    "train_list = []\n",
    "test_list = []\n",
    "pred_list = []\n",
    "\n",
    "for i in range(len(y_train_spread[0,:])):\n",
    "    early_stop = xgb.callback.EarlyStopping(rounds=20,\n",
    "                                            data_name='val'\n",
    "                                            )\n",
    "\n",
    "    dtrain_train = xgb.DMatrix(data=x_train_spread, label=y_train_spread[:,i])\n",
    "    dval_train = xgb.DMatrix(data=x_test_spread, label=y_test_spread[:,i])\n",
    "\n",
    "    train_list.append(dtrain_train)\n",
    "    test_list.append(dval_train)\n",
    "\n",
    "    model = xgb.train(params,\n",
    "                    dtrain_train,\n",
    "                    evals=[(dtrain_train,'train'),(dval_train,'val')],\n",
    "                    callbacks = [early_stop],\n",
    "                    num_boost_round=100,)\n",
    "\n",
    "    y_pred = xgb.Booster.predict(model,dval_train)\n",
    "    pred_list.append(y_pred)\n",
    "    "
   ]
  }
 ],
 "metadata": {
  "kernelspec": {
   "display_name": "tensorgpu",
   "language": "python",
   "name": "python3"
  },
  "language_info": {
   "codemirror_mode": {
    "name": "ipython",
    "version": 3
   },
   "file_extension": ".py",
   "mimetype": "text/x-python",
   "name": "python",
   "nbconvert_exporter": "python",
   "pygments_lexer": "ipython3",
   "version": "3.9.12 (main, Apr  4 2022, 05:22:27) [MSC v.1916 64 bit (AMD64)]"
  },
  "orig_nbformat": 4,
  "vscode": {
   "interpreter": {
    "hash": "4dfcec166549515651fe6305b8170d114ac82791493775815ad403a25f333b28"
   }
  }
 },
 "nbformat": 4,
 "nbformat_minor": 2
}
