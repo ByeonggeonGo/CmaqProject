{
 "cells": [
  {
   "cell_type": "code",
   "execution_count": 1,
   "metadata": {},
   "outputs": [
    {
     "name": "stderr",
     "output_type": "stream",
     "text": [
      "2023-05-31 09:00:51.591192: I tensorflow/core/platform/cpu_feature_guard.cc:193] This TensorFlow binary is optimized with oneAPI Deep Neural Network Library (oneDNN) to use the following CPU instructions in performance-critical operations:  AVX2 AVX512F AVX512_VNNI FMA\n",
      "To enable them in other operations, rebuild TensorFlow with the appropriate compiler flags.\n",
      "2023-05-31 09:00:51.691964: I tensorflow/core/util/port.cc:104] oneDNN custom operations are on. You may see slightly different numerical results due to floating-point round-off errors from different computation orders. To turn them off, set the environment variable `TF_ENABLE_ONEDNN_OPTS=0`.\n"
     ]
    }
   ],
   "source": [
    "from datasetcontroller.datacontroller import DataController\n",
    "import os\n",
    "from nnmodules.pixbylasso import LassomodPix_v2\n",
    "from sklearn.model_selection import train_test_split\n",
    "import matplotlib.pyplot as plt\n",
    "import seaborn as sns\n",
    "import tensorflow as tf\n",
    "import time"
   ]
  },
  {
   "cell_type": "code",
   "execution_count": 2,
   "metadata": {},
   "outputs": [
    {
     "name": "stderr",
     "output_type": "stream",
     "text": [
      "/usr/local/lib/python3.8/dist-packages/pyproj/crs/crs.py:141: FutureWarning: '+init=<authority>:<code>' syntax is deprecated. '<authority>:<code>' is the preferred initialization method. When making the change, be mindful of axis order changes: https://pyproj4.github.io/pyproj/stable/gotchas.html#axis-order-changes-in-proj-6\n",
      "  in_crs_string = _prepare_from_proj_string(in_crs_string)\n"
     ]
    },
    {
     "name": "stdout",
     "output_type": "stream",
     "text": [
      "67 82\n"
     ]
    },
    {
     "name": "stderr",
     "output_type": "stream",
     "text": [
      "/usr/local/lib/python3.8/dist-packages/IPython/core/interactiveshell.py:3460: FutureWarning: The `op` parameter is deprecated and will be removed in a future release. Please use the `predicate` parameter instead.\n",
      "  exec(code_obj, self.user_global_ns, self.user_ns)\n",
      "/workspace/repos/cmaqProject/experiment/datasetcontroller/datacontroller.py:55: UserWarning: CRS mismatch between the CRS of left geometries and the CRS of right geometries.\n",
      "Use `to_crs()` to reproject one of the input geometries to match the CRS of the other.\n",
      "\n",
      "Left CRS: +init=epsg:5179 +type=crs\n",
      "Right CRS: EPSG:5179\n",
      "\n",
      "  joined = gpd.sjoin(ctp_rvn_gpd, grid_data.to_crs(5179), op='contains')\n"
     ]
    },
    {
     "data": {
      "text/plain": [
       "{'서울특별시': 'Seoul',\n",
       " '부산광역시': 'Busan',\n",
       " '대구광역시': 'Daegu',\n",
       " '인천광역시': 'Incheon',\n",
       " '광주광역시': 'Gwangju',\n",
       " '대전광역시': 'Daejeon',\n",
       " '울산광역시': 'Ulsan',\n",
       " '세종특별자치시': 'Sejong-si',\n",
       " '경기도': 'Gyeonggi-do',\n",
       " '강원도': 'Gangwon-do',\n",
       " '충청북도': 'Chungcheongbuk-do',\n",
       " '충청남도': 'Chungcheongnam-do',\n",
       " '전라북도': 'Jeollabuk-do',\n",
       " '전라남도': 'Jellanam-do',\n",
       " '경상북도': 'Gyeongsangbuk-do',\n",
       " '경상남도': 'Gyeongsangnam-do',\n",
       " '제주특별자치도': 'Jeju-do',\n",
       " '전국': 'korea'}"
      ]
     },
     "execution_count": 2,
     "metadata": {},
     "output_type": "execute_result"
    }
   ],
   "source": [
    "# 데이터셋 폴더 경로 설정\n",
    "path = os.path.join(\"/workspace\")\n",
    "data_path = os.path.join(path,'cmaqProjectdata')\n",
    "\n",
    "# 모델 체크포인트\n",
    "proj_path = os.path.join(path,'repos','cmaqProject')\n",
    "checkpoint_dir = os.path.join(proj_path,'models','training_checkpoints',\"model_conmat_cmaq_4_checkpoint\")\n",
    "checkpoint_prefix = os.path.join(checkpoint_dir, \"ckpt\")\n",
    "\n",
    "# 컨트롤러\n",
    "datacontroller = DataController(data_path = data_path)\n",
    "\n",
    "# 기본 control matrix, smoke, cmaq 데이터셋 \n",
    "control_matrix, _, target_arr = datacontroller.get_yearly_dataset()\n",
    "X_train, X_test, y_train, y_test = train_test_split(control_matrix, target_arr, test_size=0.2, random_state=42 )\n",
    "\n",
    "#\n",
    "ctp_names_info = {}\n",
    "ctp_gpd = datacontroller.get_ctp()\n",
    "for i in range(len(ctp_gpd)):\n",
    "    tm = ctp_gpd.loc[i,['CTP_ENG_NM','CTP_KOR_NM']].values\n",
    "    ctp_names_info[tm[1]] = tm[0]\n",
    "ctp_names_info['전국'] = 'korea'\n",
    "ctp_names_info"
   ]
  },
  {
   "cell_type": "code",
   "execution_count": 3,
   "metadata": {},
   "outputs": [
    {
     "name": "stderr",
     "output_type": "stream",
     "text": [
      "2023-05-31 09:00:56.061045: I tensorflow/core/platform/cpu_feature_guard.cc:193] This TensorFlow binary is optimized with oneAPI Deep Neural Network Library (oneDNN) to use the following CPU instructions in performance-critical operations:  AVX2 AVX512F AVX512_VNNI FMA\n",
      "To enable them in other operations, rebuild TensorFlow with the appropriate compiler flags.\n",
      "2023-05-31 09:00:57.959093: I tensorflow/core/common_runtime/gpu/gpu_device.cc:1613] Created device /job:localhost/replica:0/task:0/device:GPU:0 with 22275 MB memory:  -> device: 0, name: NVIDIA GeForce RTX 3090, pci bus id: 0000:19:00.0, compute capability: 8.6\n",
      "2023-05-31 09:00:57.959744: I tensorflow/core/common_runtime/gpu/gpu_device.cc:1613] Created device /job:localhost/replica:0/task:0/device:GPU:1 with 19043 MB memory:  -> device: 1, name: NVIDIA GeForce RTX 3090, pci bus id: 0000:1a:00.0, compute capability: 8.6\n",
      "2023-05-31 09:00:57.960204: I tensorflow/core/common_runtime/gpu/gpu_device.cc:1613] Created device /job:localhost/replica:0/task:0/device:GPU:2 with 22275 MB memory:  -> device: 2, name: NVIDIA GeForce RTX 3090, pci bus id: 0000:67:00.0, compute capability: 8.6\n",
      "2023-05-31 09:00:57.960660: I tensorflow/core/common_runtime/gpu/gpu_device.cc:1613] Created device /job:localhost/replica:0/task:0/device:GPU:3 with 22129 MB memory:  -> device: 3, name: NVIDIA GeForce RTX 3090, pci bus id: 0000:68:00.0, compute capability: 8.6\n",
      "/usr/local/lib/python3.8/dist-packages/pyproj/crs/crs.py:141: FutureWarning: '+init=<authority>:<code>' syntax is deprecated. '<authority>:<code>' is the preferred initialization method. When making the change, be mindful of axis order changes: https://pyproj4.github.io/pyproj/stable/gotchas.html#axis-order-changes-in-proj-6\n",
      "  in_crs_string = _prepare_from_proj_string(in_crs_string)\n"
     ]
    },
    {
     "name": "stdout",
     "output_type": "stream",
     "text": [
      "67 82\n"
     ]
    },
    {
     "name": "stderr",
     "output_type": "stream",
     "text": [
      "/usr/local/lib/python3.8/dist-packages/IPython/core/interactiveshell.py:3460: FutureWarning: The `op` parameter is deprecated and will be removed in a future release. Please use the `predicate` parameter instead.\n",
      "  exec(code_obj, self.user_global_ns, self.user_ns)\n",
      "/workspace/repos/cmaqProject/experiment/nnmodules/pixbylasso.py:44: UserWarning: CRS mismatch between the CRS of left geometries and the CRS of right geometries.\n",
      "Use `to_crs()` to reproject one of the input geometries to match the CRS of the other.\n",
      "\n",
      "Left CRS: +init=epsg:5179 +type=crs\n",
      "Right CRS: EPSG:5179\n",
      "\n",
      "  joined = gpd.sjoin(ctp_rvn_gpd, grid_data.to_crs(5179), op='contains')\n"
     ]
    }
   ],
   "source": [
    "pixlasso = LassomodPix_v2(data_path)"
   ]
  },
  {
   "cell_type": "code",
   "execution_count": 7,
   "metadata": {},
   "outputs": [
    {
     "name": "stdout",
     "output_type": "stream",
     "text": [
      "..........Time taken for 200 grid: 190.19 sec\n",
      "\n",
      "........"
     ]
    }
   ],
   "source": [
    "@tf.function\n",
    "def train_step(input, target, epochs):\n",
    "    start = time.time()\n",
    "    for i, pix_index in enumerate(pixlasso._indexed_grid_point.index.tolist()):\n",
    "        x, y = pix_index%82,pix_index//82\n",
    "        if (i+1) % 20 == 0:\n",
    "            print('.', end='', flush=True)\n",
    "        \n",
    "        if (i) % 200 == 0:\n",
    "            if i != 0:\n",
    "                print(f'Time taken for 200 grid: {time.time()-start:.2f} sec\\n')\n",
    "                start = time.time()\n",
    "        for epoch in range(epochs):\n",
    "            with tf.GradientTape() as tape:\n",
    "                output = pixlasso.grid_layers[i](input)\n",
    "                sub_target = target[:,x,y,:]\n",
    "                l1_loss = pixlasso.lose_mse(sub_target, output)\n",
    "\n",
    "            gradients = tape.gradient(l1_loss, pixlasso.grid_layers[i].trainable_variables)\n",
    "            pixlasso.optimizers[i].apply_gradients(zip(gradients, pixlasso.grid_layers[i].trainable_variables))\n",
    "\n",
    "epochs = 30\n",
    "train_step(X_train, y_train, epochs)"
   ]
  },
  {
   "cell_type": "code",
   "execution_count": null,
   "metadata": {},
   "outputs": [],
   "source": [
    "pred = pixlasso.call(X_train)\n",
    "sns.heatmap(pred[0,:,:,0][::-1])"
   ]
  }
 ],
 "metadata": {
  "kernelspec": {
   "display_name": "Python 3",
   "language": "python",
   "name": "python3"
  },
  "language_info": {
   "codemirror_mode": {
    "name": "ipython",
    "version": 3
   },
   "file_extension": ".py",
   "mimetype": "text/x-python",
   "name": "python",
   "nbconvert_exporter": "python",
   "pygments_lexer": "ipython3",
   "version": "3.8.5"
  },
  "orig_nbformat": 4
 },
 "nbformat": 4,
 "nbformat_minor": 2
}
