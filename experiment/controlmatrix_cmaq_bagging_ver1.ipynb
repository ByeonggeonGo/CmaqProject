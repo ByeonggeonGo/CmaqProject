{
 "cells": [
  {
   "cell_type": "code",
   "execution_count": 17,
   "metadata": {},
   "outputs": [],
   "source": [
    "# !pip3 install opencv-python\n",
    "# !apt-get update && apt-get install libgl1\n",
    "\n",
    "import os\n",
    "\n",
    "import numpy as np\n",
    "from netCDF4 import Dataset\n",
    "\n",
    "import seaborn as sns\n",
    "from tqdm import tqdm\n",
    "from glob import glob\n",
    "import pandas as pd\n",
    "import time\n",
    "\n",
    "import matplotlib.pyplot as plt\n",
    "import cv2"
   ]
  },
  {
   "cell_type": "code",
   "execution_count": 2,
   "metadata": {},
   "outputs": [],
   "source": [
    "path = '/home/workspace'\n",
    "data_path = os.path.join(path,'cmaqProjectdata')\n",
    "proj_path = os.path.join(path,'repos','cmaqProject')"
   ]
  },
  {
   "cell_type": "code",
   "execution_count": 3,
   "metadata": {},
   "outputs": [
    {
     "data": {
      "text/plain": [
       "'/home/workspace/repos/cmaqProject/models/training_checkpoints/model_conmat_cmaq_1_checkpoint/ckpt'"
      ]
     },
     "execution_count": 3,
     "metadata": {},
     "output_type": "execute_result"
    }
   ],
   "source": [
    "checkpoint_dir = os.path.join(proj_path,'models','training_checkpoints',\"model_conmat_cmaq_1_checkpoint\")\n",
    "checkpoint_prefix = os.path.join(checkpoint_dir, \"ckpt\")\n",
    "checkpoint_prefix"
   ]
  },
  {
   "cell_type": "code",
   "execution_count": 4,
   "metadata": {},
   "outputs": [],
   "source": [
    "BATCH_SIZE = 8\n",
    "EPOCH = 1\n",
    "shuffle_buffer_size = 100\n",
    "train_set_len = 100\n",
    "\n",
    "INPUT_SHAPE = [119]\n",
    "OUTPUT_CHANNELS = 1"
   ]
  },
  {
   "attachments": {},
   "cell_type": "markdown",
   "metadata": {},
   "source": [
    "## 데이터셋"
   ]
  },
  {
   "cell_type": "code",
   "execution_count": 5,
   "metadata": {},
   "outputs": [],
   "source": [
    "avg_conc_path_list = glob(os.path.join(data_path,\"연평균자료\",\"concentration\",\"*\"))\n",
    "avg_conc_path_info_df = pd.DataFrame()\n",
    "avg_conc_path_info_df.loc[:,'path'] = avg_conc_path_list\n",
    "avg_conc_path_info_df.loc[:,'Run'] = [int(path.split(\"/\")[-1].split(\".\")[1]) for path in avg_conc_path_list]\n",
    "\n",
    "cont_matrix = pd.read_csv(os.path.join(data_path,\"연평균자료\",\"02_Emission_0518.csv\"))\n",
    "\n",
    "merged_info_df = pd.merge(avg_conc_path_info_df, cont_matrix, how='left', on='Run')\n",
    "target_arr = np.concatenate([np.array(Dataset(path, 'r').variables['PM2_5'][0,0,8:-10,2:-1])[np.newaxis,:,:] for path in merged_info_df.path.tolist()])[:,:,:,None]"
   ]
  },
  {
   "cell_type": "code",
   "execution_count": 6,
   "metadata": {},
   "outputs": [
    {
     "data": {
      "text/plain": [
       "(120, 64, 64, 1)"
      ]
     },
     "execution_count": 6,
     "metadata": {},
     "output_type": "execute_result"
    }
   ],
   "source": [
    "target_arr.shape"
   ]
  },
  {
   "cell_type": "code",
   "execution_count": 7,
   "metadata": {},
   "outputs": [],
   "source": [
    "input_cols = list(set(merged_info_df.columns) - set(['path','Run',]))\n",
    "\n",
    "train_input = merged_info_df.loc[:,input_cols].values[:train_set_len]\n",
    "test_input = merged_info_df.loc[:,input_cols].values[train_set_len:]\n",
    "\n",
    "train_output = target_arr[:train_set_len]\n",
    "\n",
    "\n",
    "# train_output_scaled = (train_output - train_min)/(train_max - train_min)\n",
    "test_output = target_arr[train_set_len:]\n",
    "# test_output_scaled = (test_output - train_min)/(train_max - train_min)\n",
    "\n",
    "# train_input_ds = tf.data.Dataset.from_tensor_slices(train_input)\n",
    "# train_target_ds = tf.data.Dataset.from_tensor_slices(train_output)\n",
    "\n",
    "# test_input_ds = tf.data.Dataset.from_tensor_slices(test_input)\n",
    "# test_target_ds = tf.data.Dataset.from_tensor_slices(test_output)\n",
    "\n",
    "\n",
    "# train_ds = tf.data.Dataset.zip((train_input_ds, train_target_ds)).batch(BATCH_SIZE).shuffle(shuffle_buffer_size)\n",
    "# test_ds = tf.data.Dataset.zip((test_input_ds, test_target_ds)).batch(BATCH_SIZE).shuffle(shuffle_buffer_size)\n",
    "\n",
    "# train_ds = ds.take(train_set_len) \n",
    "# test_ds = ds.skip(train_set_len)"
   ]
  },
  {
   "cell_type": "code",
   "execution_count": 10,
   "metadata": {},
   "outputs": [
    {
     "data": {
      "text/plain": [
       "(100, 64, 64, 1)"
      ]
     },
     "execution_count": 10,
     "metadata": {},
     "output_type": "execute_result"
    }
   ],
   "source": [
    "train_output.shape"
   ]
  },
  {
   "attachments": {},
   "cell_type": "markdown",
   "metadata": {},
   "source": [
    "## 모델"
   ]
  },
  {
   "attachments": {},
   "cell_type": "markdown",
   "metadata": {},
   "source": [
    "* 기본 트리"
   ]
  },
  {
   "cell_type": "code",
   "execution_count": 93,
   "metadata": {},
   "outputs": [],
   "source": [
    "class Restree():\n",
    "    def __init__(\n",
    "        self,\n",
    "        max_depth: float,\n",
    "        i_depth: float,\n",
    "        minimum_sample_leaf: float,\n",
    "        y_val: np.array,\n",
    "        x_val: np.array,\n",
    "\n",
    "        # res_y_val: np.array,\n",
    "\n",
    "        is_terminal: bool,\n",
    "\n",
    "        # kernel_size: list,\n",
    "        feature_n: int,\n",
    "\n",
    "        input_shape: int,\n",
    "        # pre_weak_net: Weakcnn,\n",
    "        # pre_weak_net = None,\n",
    "\n",
    "        # feature_list = [],\n",
    "\n",
    "\n",
    "    ):\n",
    "        self.max_depth = max_depth\n",
    "        self.minimum_sample_leaf = minimum_sample_leaf\n",
    "        self.i_depth = i_depth\n",
    "        self.is_terminal = is_terminal\n",
    "        self.y_val = y_val\n",
    "        # # self.res_y_val = res_y_val\n",
    "        # if self.i_depth != 0: # 사전모델 있는 첫노드가 아닌경우 이미 y값 잔차이기 때문에 그냥 쓰면됨\n",
    "        #     # self.y_val = y_val   ### 여기서 모델 시작되자마자 y_val을 사전학습모델과 y와의 잔차로 피팅하기##\n",
    "        #     # self.y_val = y_val - pre_weak_net(x_train).numpy() \n",
    "        #     self.y_val = y_val\n",
    "            \n",
    "        # else:\n",
    "        #     self.y_val = y_val\n",
    "        # # self.y_val = y_val - self.res_y_val\n",
    "\n",
    "        \n",
    "\n",
    "        \n",
    "\n",
    "        self.x_val = x_val\n",
    "        self.best_feature = None\n",
    "        self.best_feature_value = None\n",
    "\n",
    "        self.feature_n = feature_n# 30\n",
    "        self.input_shape = input_shape # [70,64,64,3]\n",
    "\n",
    "        self.pred_val = None # 갖는 이미지의 평균값, 피팅이 완료되면 y_val, x_val은 버리도록(메모리낭비)\n",
    "\n",
    "        self.l_tree = None\n",
    "        self.r_tree = None\n",
    "\n",
    "        # ax1 = np.random.randint(input_shape[1] - kernel_size[0], size=kernel_n).reshape(-1,1)\n",
    "        # ax2 = np.random.randint(input_shape[2] - kernel_size[1], size=kernel_n).reshape(-1,1)\n",
    "        # ax3 = np.random.randint(input_shape[3], size=kernel_n).reshape(-1,1)\n",
    "\n",
    "        self.feature_list = np.random.choice(range(self.input_shape),self.feature_n)\n",
    "\n",
    "        # # self.weak_net = pre_weak_net\n",
    "\n",
    "\n",
    "    # def obj_fun_bhattacharyya_dist(self, l_values, r_values):\n",
    "        \n",
    "    #     l_arr = np.float32(l_values)\n",
    "    #     r_arr = np.float32(r_values)\n",
    "\n",
    "    #     max_val = np.max(np.concatenate([l_arr,r_arr]))\n",
    "\n",
    "    #     hist_cv_l = cv2.calcHist([l_arr],[0],None,[40],[0,max_val])\n",
    "    #     hist_cv_r = cv2.calcHist([r_arr],[0],None,[40] ,[0,max_val])    #[100] 빈수, [0,256]값 범위 \n",
    "\n",
    "    #     dist = cv2.compareHist(hist_cv_l, hist_cv_r, cv2.HISTCMP_BHATTACHARYYA) #작을수록 유사도큼\n",
    "\n",
    "    #     return dist * -1\n",
    "\n",
    "    def obj_fun_l1_loss(self, l_values, r_values):\n",
    "\n",
    "        l_loss = np.mean((l_values - np.mean(l_values,axis =0))**2)\n",
    "        r_loss = np.mean((l_values - np.mean(r_values,axis =0))**2)\n",
    "\n",
    "        total_l = len(l_values) + len(r_values)\n",
    "\n",
    "        weigted_loss = (l_loss*len(l_values) + r_loss*len(r_values))/total_l\n",
    "\n",
    "\n",
    "        return weigted_loss\n",
    "\n",
    "       \n",
    "    def fit(self, ):\n",
    "        best_score = None\n",
    "        for cords in self.feature_list:  #컬럼_피처 루프\n",
    "            \n",
    "            feat_data = self.x_val[:,cords]\n",
    "\n",
    "\n",
    "            # if len(set(feat_data.mean(axis = (1,2)))) == 1:\n",
    "\n",
    "            #     ## 모든 kernel_cords에서 특징이 똑같은루프만 나오면 루프를 다 돌아도 best_score = None 상태로 남음\n",
    "            #     ## 이상태에서 아래 피팅 부분으로 돌아가면 에러남\n",
    "            #     continue\n",
    "            # elif len(set(feat_data.mean(axis = (1,2)))) >= 100:\n",
    "            #     selected_feat_vals = list(np.random.choice(list(set(feat_data.mean(axis = (1,2)))),100, replace = False))\n",
    "            # else:\n",
    "            #     selected_feat_vals = list(set(feat_data.mean(axis = (1,2))))\n",
    "            try:\n",
    "                selected_feat_vals = list(np.random.choice(list(feat_data),30, replace = False))\n",
    "            except:\n",
    "                selected_feat_vals = list(feat_data)\n",
    "        \n",
    "\n",
    "            for j in selected_feat_vals: #한 컬럼내에서 분류기준나누기 위한 루프\n",
    "\n",
    "                left_ind = feat_data < j\n",
    "\n",
    "                y_left = self.y_val[left_ind]\n",
    "                y_right = self.y_val[~left_ind]\n",
    "\n",
    "                if len(y_left) * len(y_right) != 0:\n",
    "\n",
    "                    if self.best_feature is None:\n",
    "                        self.best_feature = cords\n",
    "                        self.best_feature_value = j\n",
    "                        best_score = self.obj_fun_l1_loss(y_left, y_right)\n",
    "                        \n",
    "                    else:\n",
    "                        new_score = self.obj_fun_l1_loss(y_left, y_right)\n",
    "                        if new_score < best_score:\n",
    "                            self.best_feature = cords\n",
    "                            self.best_feature_value = j\n",
    "                            best_score = new_score\n",
    "                else:\n",
    "                    continue\n",
    "\n",
    "        if best_score is None:\n",
    "            self.is_terminal = True\n",
    "            # self.fit_weak_layer()\n",
    "            \n",
    "            return None\n",
    "        \n",
    "                        \n",
    "        if self.max_depth >= self.i_depth:\n",
    "            # 찾은 최적값으로 좌우 할당\n",
    "            x_val_feat = self.x_val[:,self.best_feature]\n",
    "    \n",
    "            left_ind = x_val_feat < self.best_feature_value\n",
    "            \n",
    "            y_left = self.y_val[left_ind]\n",
    "            y_right = self.y_val[~left_ind]\n",
    "\n",
    "            x_left = self.x_val[left_ind]\n",
    "            x_right = self.x_val[~left_ind]\n",
    "\n",
    "            if len(y_left) > self.minimum_sample_leaf:\n",
    "                # self.weak_net = pre_weak_net\n",
    "                self.l_tree = Restree(max_depth = self.max_depth,i_depth = self.i_depth + 1, minimum_sample_leaf = self.minimum_sample_leaf, x_val = x_left, y_val = y_left, is_terminal=False, feature_n=self.feature_n, input_shape=self.input_shape)\n",
    "                self.l_tree.fit()\n",
    "               \n",
    "            else:\n",
    "                #마지막 리프라서 피팅할필요 없이 y_val 평균으로 예측만 하면 됨\n",
    "                #여기서 y_val이 없는 경우가 있음 이때 nan 리턴되서 에러, 먼저 해결\n",
    "                if len(y_left) != 0 :\n",
    "                    self.l_tree = Restree(max_depth = self.max_depth,i_depth = self.i_depth + 1, minimum_sample_leaf = self.minimum_sample_leaf, x_val = x_left, y_val = y_left, is_terminal=True, feature_n=self.feature_n, input_shape=self.input_shape)\n",
    "                    # self.l_tree.fit_weak_layer()\n",
    "                else:\n",
    "                    self.is_terminal = True\n",
    "                    # self.fit_weak_layer()\n",
    "            if len(y_right) > self.minimum_sample_leaf:\n",
    "                self.r_tree = Restree(max_depth = self.max_depth,i_depth = self.i_depth + 1, minimum_sample_leaf = self.minimum_sample_leaf, x_val = x_right, y_val = y_right, is_terminal=False, feature_n=self.feature_n, input_shape=self.input_shape)\n",
    "                self.r_tree.fit()\n",
    "            else:\n",
    "                #마지막 리프라서 피팅할필요 없이 y_val 평균으로 예측만 하면 됨\n",
    "                #여기서 y_val이 없는 경우가 있음 이때 nan 리턴되서 에러, 먼저 해결\n",
    "                if len(y_right) !=0:\n",
    "                    self.r_tree = Restree(max_depth = self.max_depth,i_depth = self.i_depth + 1, minimum_sample_leaf = self.minimum_sample_leaf, x_val = x_right, y_val = y_right, is_terminal=True, feature_n=self.feature_n, input_shape=self.input_shape)\n",
    "                    # self.r_tree.fit_weak_layer()\n",
    "                else:\n",
    "                    self.is_terminal = True\n",
    "                    # self.fit_weak_layer()\n",
    "        else:\n",
    "            self.is_terminal = True\n",
    "            # self.fit_weak_layer()\n",
    "\n",
    "    def predict(self ,x_arr):\n",
    "        # model\n",
    "        feat_x = x_arr[:,self.best_feature]\n",
    "        left_ind = feat_x < self.best_feature_value\n",
    "\n",
    "        input_shape = x_arr.shape\n",
    "\n",
    "        pred_val = np.zeros(shape=(input_shape[0],64,64,1))\n",
    "        \n",
    "        x_arr_left = x_arr[left_ind]\n",
    "        x_arr_right = x_arr[~left_ind]\n",
    "\n",
    "        if self.l_tree.is_terminal:\n",
    "            # pred_l = self.l_tree.weak_net(x_arr_left)\n",
    "            pred_l = self.l_tree.y_val.mean(axis = 0)\n",
    "        else:\n",
    "            pred_l = self.l_tree.predict(x_arr_left)\n",
    "\n",
    "        if self.r_tree.is_terminal:\n",
    "            # pred_r = self.r_tree.weak_net(x_arr_right)\n",
    "            pred_r = self.r_tree.y_val.mean(axis = 0)\n",
    "        else:\n",
    "            pred_r = self.r_tree.predict(x_arr_right)\n",
    "        \n",
    "        pred_val[left_ind] = pred_l\n",
    "        pred_val[~left_ind] = pred_r\n",
    "\n",
    "\n",
    "        return pred_val\n",
    "\n",
    "\n",
    "\n",
    "    def get_tree_structure(self):\n",
    "        feat_list = []\n",
    "        def get_info_dic(i_tree):\n",
    "            result = {\n",
    "            'best_feature': i_tree.best_feature,\n",
    "            'best_feature_value': i_tree.best_feature_value,\n",
    "            'terminal': i_tree.is_terminal,\n",
    "            'depth': i_tree.i_depth,\n",
    "            }\n",
    "            if result['best_feature'] is not None:\n",
    "                feat_list.append(result['best_feature'])\n",
    "            \n",
    "            if i_tree.l_tree is not None:\n",
    "                result['l_tree'] = get_info_dic(i_tree.l_tree)\n",
    "            \n",
    "            if i_tree.r_tree is not None:\n",
    "                result['r_tree'] = get_info_dic(i_tree.r_tree)\n",
    "\n",
    "            return result\n",
    "        \n",
    "        info = get_info_dic(self)\n",
    "        return info, feat_list"
   ]
  },
  {
   "cell_type": "code",
   "execution_count": 109,
   "metadata": {},
   "outputs": [],
   "source": [
    "i_tree = Restree(max_depth = 30,i_depth = 0, minimum_sample_leaf = 1, x_val = train_input, y_val = train_output, is_terminal=False, feature_n=100, input_shape=119)\n",
    "i_tree.fit()\n",
    "            "
   ]
  },
  {
   "cell_type": "code",
   "execution_count": 110,
   "metadata": {},
   "outputs": [
    {
     "data": {
      "text/plain": [
       "[<matplotlib.lines.Line2D at 0x7f586c57b880>]"
      ]
     },
     "execution_count": 110,
     "metadata": {},
     "output_type": "execute_result"
    },
    {
     "data": {
      "image/png": "[encoded data removed]",
      "text/plain": [
       "<Figure size 640x480 with 1 Axes>"
      ]
     },
     "metadata": {},
     "output_type": "display_data"
    }
   ],
   "source": [
    "result = i_tree.predict(test_input)\n",
    "plt.plot(result.reshape(-1), test_output.reshape(-1), 'bo')"
   ]
  },
  {
   "cell_type": "code",
   "execution_count": 111,
   "metadata": {},
   "outputs": [
    {
     "data": {
      "text/plain": [
       "[<matplotlib.lines.Line2D at 0x7f586c4f31f0>]"
      ]
     },
     "execution_count": 111,
     "metadata": {},
     "output_type": "execute_result"
    },
    {
     "data": {
      "image/png": "[encoded data removed]",
      "text/plain": [
       "<Figure size 640x480 with 1 Axes>"
      ]
     },
     "metadata": {},
     "output_type": "display_data"
    }
   ],
   "source": [
    "result = i_tree.predict(train_input)\n",
    "plt.plot(result.reshape(-1), train_output.reshape(-1), 'bo')"
   ]
  },
  {
   "attachments": {},
   "cell_type": "markdown",
   "metadata": {},
   "source": [
    "* 배깅"
   ]
  },
  {
   "cell_type": "code",
   "execution_count": 97,
   "metadata": {},
   "outputs": [],
   "source": [
    "class Bagging():\n",
    "    def __init__(\n",
    "        self,\n",
    "        max_depth: float,\n",
    "        i_depth: float,\n",
    "        minimum_sample_leaf: float,\n",
    "        y_val: np.array,\n",
    "        x_val: np.array,\n",
    "        is_terminal: bool,\n",
    "\n",
    "        feature_n: int,\n",
    "\n",
    "        input_shape: list,\n",
    "\n",
    "        n_tree: int,\n",
    "\n",
    "        \n",
    "    ):\n",
    "        self.max_depth = max_depth\n",
    "        self.minimum_sample_leaf = minimum_sample_leaf\n",
    "        self.i_depth = i_depth\n",
    "        self.is_terminal = is_terminal\n",
    "\n",
    "        self.y_val = y_val\n",
    "        self.x_val = x_val\n",
    "\n",
    "      \n",
    "        self.feature_n = feature_n# 30\n",
    "        self.input_shape = input_shape # [70,64,64,3]\n",
    "        \n",
    "        self.tree_bootstrap = []\n",
    "        self.n_tree = n_tree\n",
    "\n",
    "    def bagging_prediction(self,x_vals):\n",
    "        print(x_vals.shape)\n",
    "        preds = np.mean([ind_tree.predict(x_vals) for ind_tree in self.tree_bootstrap], axis = 0)\n",
    "        return preds\n",
    "\n",
    "\n",
    "    def bagging_train(self,):\n",
    "        for i in range(self.n_tree):\n",
    "            print(i)\n",
    "            data_len = len(self.x_val)\n",
    "            sub_sample_ind = np.random.choice(range(data_len),data_len)\n",
    "            x_val_bootstraped = self.x_val[sub_sample_ind]\n",
    "            y_val_bootstraped = self.y_val[sub_sample_ind]\n",
    "\n",
    "            i_tree = Restree(max_depth = self.max_depth,i_depth = 0, minimum_sample_leaf = self.minimum_sample_leaf, x_val = x_val_bootstraped, y_val = y_val_bootstraped, is_terminal=False, feature_n=self.feature_n, input_shape=len(x_val_bootstraped[0,:]))\n",
    "            i_tree.fit()\n",
    "            self.tree_bootstrap.append(i_tree)\n",
    "           \n",
    "    "
   ]
  },
  {
   "cell_type": "code",
   "execution_count": 113,
   "metadata": {},
   "outputs": [
    {
     "name": "stdout",
     "output_type": "stream",
     "text": [
      "0\n",
      "1\n",
      "2\n",
      "3\n",
      "4\n",
      "5\n",
      "6\n",
      "7\n",
      "8\n",
      "9\n"
     ]
    }
   ],
   "source": [
    "input_arr_list = []\n",
    "output_arr_list = []\n",
    "\n",
    "input_arr_list.append(train_input)\n",
    "output_arr_list.append(train_output)\n",
    "\n",
    "for val in [63]:\n",
    "    max_list = np.array([np.max(train_output[i]) for i in range(len(train_output))])\n",
    "    sample_ind = np.random.choice(np.array(range(len(train_input)))[max_list > val], 30, replace = True)\n",
    "\n",
    "    oversample_input = train_input[sample_ind]\n",
    "    oversample_output = train_output[sample_ind]\n",
    "\n",
    "    input_arr_list.append(oversample_input)\n",
    "    output_arr_list.append(oversample_output)\n",
    "\n",
    "newinput = np.concatenate(input_arr_list, axis = 0)\n",
    "newoutput = np.concatenate(output_arr_list, axis = 0)\n",
    "\n",
    "\n",
    "\n",
    "bagging_tree = Bagging(\n",
    "    max_depth= 30,\n",
    "    i_depth= 0,\n",
    "    minimum_sample_leaf= 1,\n",
    "    y_val= newoutput,\n",
    "    x_val= newinput,\n",
    "    is_terminal= False,\n",
    "\n",
    "    feature_n= 100,\n",
    "\n",
    "    input_shape= len(train_input[0,:]),\n",
    "\n",
    "    n_tree= 10,\n",
    ")\n",
    "\n",
    "bagging_tree.bagging_train()"
   ]
  },
  {
   "cell_type": "code",
   "execution_count": 114,
   "metadata": {},
   "outputs": [
    {
     "name": "stdout",
     "output_type": "stream",
     "text": [
      "(100, 119)\n"
     ]
    },
    {
     "data": {
      "text/plain": [
       "[<matplotlib.lines.Line2D at 0x7f586c369700>]"
      ]
     },
     "execution_count": 114,
     "metadata": {},
     "output_type": "execute_result"
    },
    {
     "data": {
      "image/png": "[encoded data removed]",
      "text/plain": [
       "<Figure size 640x480 with 1 Axes>"
      ]
     },
     "metadata": {},
     "output_type": "display_data"
    }
   ],
   "source": [
    "# 6분, 데이터셋 작을때는 gpu올리는 시간이 더 오래걸리기 때문에 그냥하는 것이 더 빠름\n",
    "pred = bagging_tree.bagging_prediction(train_input)\n",
    "plt.plot(pred.reshape(-1), train_output.reshape(-1),'bo', markersize=1)\n",
    "plt.plot([0,90],[0,90])"
   ]
  },
  {
   "cell_type": "code",
   "execution_count": 115,
   "metadata": {},
   "outputs": [
    {
     "name": "stdout",
     "output_type": "stream",
     "text": [
      "(20, 119)\n"
     ]
    },
    {
     "data": {
      "text/plain": [
       "[<matplotlib.lines.Line2D at 0x7f586c33a100>]"
      ]
     },
     "execution_count": 115,
     "metadata": {},
     "output_type": "execute_result"
    },
    {
     "data": {
      "image/png": "[encoded data removed]",
      "text/plain": [
       "<Figure size 640x480 with 1 Axes>"
      ]
     },
     "metadata": {},
     "output_type": "display_data"
    }
   ],
   "source": [
    "# 6분, 데이터셋 작을때는 gpu올리는 시간이 더 오래걸리기 때문에 그냥하는 것이 더 빠름\n",
    "pred_test = bagging_tree.bagging_prediction(test_input)\n",
    "plt.plot(pred_test.reshape(-1), test_output.reshape(-1),'bo', markersize=1)\n",
    "plt.plot([0,90],[0,90])"
   ]
  }
 ],
 "metadata": {
  "kernelspec": {
   "display_name": "Python 3",
   "language": "python",
   "name": "python3"
  },
  "language_info": {
   "codemirror_mode": {
    "name": "ipython",
    "version": 3
   },
   "file_extension": ".py",
   "mimetype": "text/x-python",
   "name": "python",
   "nbconvert_exporter": "python",
   "pygments_lexer": "ipython3",
   "version": "3.8.5"
  },
  "orig_nbformat": 4,
  "vscode": {
   "interpreter": {
    "hash": "e7370f93d1d0cde622a1f8e1c04877d8463912d04d973331ad4851f04de6915a"
   }
  }
 },
 "nbformat": 4,
 "nbformat_minor": 2
}
