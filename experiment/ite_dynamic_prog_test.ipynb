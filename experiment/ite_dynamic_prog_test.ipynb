{
 "cells": [
  {
   "cell_type": "code",
   "execution_count": 7,
   "metadata": {},
   "outputs": [],
   "source": [
    "import math\n",
    "# https://hughchen.github.io/its_blog/index.html#define_tree_samples 여기 동적계획법 shap 계산 예제"
   ]
  },
  {
   "cell_type": "code",
   "execution_count": 8,
   "metadata": {},
   "outputs": [],
   "source": [
    "class Testtree():\n",
    "    def __init__(\n",
    "        self,\n",
    "        is_terminal: bool,\n",
    "        best_feature: int,\n",
    "        best_feature_val: int,\n",
    "        val= None,\n",
    "        \n",
    "    ):\n",
    "        self.is_terminal = is_terminal\n",
    "        self.best_feature = best_feature\n",
    "        self.best_feature_val = best_feature_val\n",
    "        self.val = val\n",
    "\n",
    "        self.l_tree = None\n",
    "        self.r_tree = None\n",
    "\n",
    "        self.posval = None\n",
    "        self.negval = None\n",
    "\n",
    "def weight(sc,nc):\n",
    "    pw = 0\n",
    "    nw = 0\n",
    "    if sc == 0:\n",
    "        if nc != 0:\n",
    "            nw = -1*(math.factorial(sc) * math.factorial(nc - sc - 1))/math.factorial(nc)\n",
    "        return pw,nw\n",
    "    if sc !=0:\n",
    "        pw = (math.factorial(sc-1) * math.factorial(nc - (sc -1) - 1))/math.factorial(nc)\n",
    "    if sc != nc:\n",
    "        nw = -1*(math.factorial(sc) * math.factorial(nc - sc - 1))/math.factorial(nc)\n",
    "\n",
    "    return pw, nw\n",
    "\n",
    "def treeshap_dynamic_test(x_foreground, x_background, tree):\n",
    "\n",
    "    def recurse(node_tree, n_c, s_c, foreground_check, background_check):\n",
    "        \n",
    "\n",
    "        if node_tree.is_terminal:\n",
    "            pw, nw = weight(s_c,n_c)\n",
    "            val_sum = node_tree.val   #여기를 만약에 sum으로하면 리프가 갖는 데이터셋 개수에 따라서 값차이가 생기므로 평균으로 처리해야함\n",
    "            \n",
    "            node_tree.posval = val_sum * pw\n",
    "            node_tree.negval = val_sum * nw\n",
    "            return val_sum * pw, val_sum * nw\n",
    "        \n",
    "        \n",
    "\n",
    "        xf_val = x_foreground[node_tree.best_feature - 1]\n",
    "        xb_val = x_background[node_tree.best_feature - 1]\n",
    "\n",
    "        xf_child = node_tree.l_tree if xf_val < node_tree.best_feature_val else node_tree.r_tree\n",
    "        xb_child = node_tree.l_tree if xb_val < node_tree.best_feature_val else node_tree.r_tree\n",
    "            \n",
    "        if foreground_check[node_tree.best_feature -1 ] > 0:\n",
    "            return recurse(xf_child,n_c,s_c, foreground_check, background_check)\n",
    "        \n",
    "        if background_check[node_tree.best_feature -1 ] > 0:\n",
    "            return recurse(xb_child,n_c,s_c, foreground_check, background_check)\n",
    "\n",
    "        if xf_child == xb_child:\n",
    "            return recurse(xb_child,n_c,s_c, foreground_check, background_check)\n",
    "\n",
    "        if xf_child != xb_child:\n",
    "            # foreground search\n",
    "            foreground_check[node_tree.best_feature -1 ] += 1\n",
    "            posf, negf = recurse(xf_child,n_c + 1,s_c + 1, foreground_check, background_check)\n",
    "            foreground_check[node_tree.best_feature -1 ] -= 1\n",
    "\n",
    "\n",
    "            # background search\n",
    "            background_check[node_tree.best_feature -1 ] += 1\n",
    "            posb, negb = recurse(xb_child,n_c + 1,s_c, foreground_check, background_check)\n",
    "            background_check[node_tree.best_feature -1 ] -= 1\n",
    "\n",
    "            # add phi\n",
    "            phi[node_tree.best_feature - 1] += (posf + negb)\n",
    "            \n",
    "            node_tree.posval = posf + posb\n",
    "            node_tree.negval = negf + negb\n",
    "            return posf + posb, negf + negb\n",
    "    \n",
    "    recurse(tree, 0, 0, feature_forecheck, feature_backcheck)"
   ]
  },
  {
   "cell_type": "code",
   "execution_count": 9,
   "metadata": {},
   "outputs": [
    {
     "name": "stdout",
     "output_type": "stream",
     "text": [
      "[-3.5, -1.0, 0.5]\n"
     ]
    }
   ],
   "source": [
    "tree1 = Testtree(False,1,5)\n",
    "tree2 = Testtree(False,2,-5)\n",
    "tree3 = Testtree(False,2,5)\n",
    "tree4 = Testtree(False,1,5)\n",
    "tree5 = Testtree(False,3,5)\n",
    "tree6 = Testtree(False,3,-5)\n",
    "tree7 = Testtree(False,1,5)\n",
    "tree8 = Testtree(True,1,5,val=1)\n",
    "tree9 = Testtree(True,1,5,val=2)\n",
    "tree10 = Testtree(True,1,5,val=3)\n",
    "tree11 = Testtree(True,1,5,val=4)\n",
    "tree12 = Testtree(True,1,5,val=5)\n",
    "tree13 = Testtree(True,1,5,val=6)\n",
    "tree14 = Testtree(True,1,5,val=7)\n",
    "tree15 = Testtree(True,1,5,val=8)\n",
    "\n",
    "tree1.l_tree = tree2\n",
    "tree1.r_tree = tree3\n",
    "\n",
    "tree2.l_tree = tree4\n",
    "tree2.r_tree = tree5\n",
    "\n",
    "tree3.l_tree = tree6\n",
    "tree3.r_tree = tree7\n",
    "\n",
    "tree4.l_tree = tree8\n",
    "tree4.r_tree = tree9\n",
    "\n",
    "tree5.l_tree = tree10\n",
    "tree5.r_tree = tree11\n",
    "\n",
    "tree6.l_tree = tree12\n",
    "tree6.r_tree = tree13\n",
    "\n",
    "tree7.l_tree = tree14\n",
    "tree7.r_tree = tree15\n",
    "\n",
    "xf = [0,0,10]\n",
    "xb = [10,10,0]\n",
    "\n",
    "phi = [0] * len(xf)\n",
    "feature_forecheck = [0] * len(xf)\n",
    "feature_backcheck = [0] * len(xf)\n",
    "            \n",
    "\n",
    "\n",
    "treeshap_dynamic_test(xf, xb, tree1)\n",
    "print(phi)"
   ]
  },
  {
   "cell_type": "code",
   "execution_count": 10,
   "metadata": {},
   "outputs": [
    {
     "data": {
      "text/plain": [
       "0"
      ]
     },
     "execution_count": 10,
     "metadata": {},
     "output_type": "execute_result"
    }
   ],
   "source": [
    "tree15.posval"
   ]
  },
  {
   "cell_type": "code",
   "execution_count": 11,
   "metadata": {},
   "outputs": [
    {
     "data": {
      "text/plain": [
       "-4.0"
      ]
     },
     "execution_count": 11,
     "metadata": {},
     "output_type": "execute_result"
    }
   ],
   "source": [
    "tree15.negval"
   ]
  }
 ],
 "metadata": {
  "kernelspec": {
   "display_name": "tensorgpu",
   "language": "python",
   "name": "python3"
  },
  "language_info": {
   "codemirror_mode": {
    "name": "ipython",
    "version": 3
   },
   "file_extension": ".py",
   "mimetype": "text/x-python",
   "name": "python",
   "nbconvert_exporter": "python",
   "pygments_lexer": "ipython3",
   "version": "3.9.12 (main, Apr  4 2022, 05:22:27) [MSC v.1916 64 bit (AMD64)]"
  },
  "orig_nbformat": 4,
  "vscode": {
   "interpreter": {
    "hash": "4dfcec166549515651fe6305b8170d114ac82791493775815ad403a25f333b28"
   }
  }
 },
 "nbformat": 4,
 "nbformat_minor": 2
}
